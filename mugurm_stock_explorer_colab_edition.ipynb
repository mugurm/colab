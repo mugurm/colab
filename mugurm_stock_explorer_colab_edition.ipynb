{
  "nbformat": 4,
  "nbformat_minor": 0,
  "metadata": {
    "colab": {
      "provenance": [],
      "toc_visible": true,
      "authorship_tag": "ABX9TyPq5w7Mc6D3LOjwzWotkduX",
      "include_colab_link": true
    },
    "kernelspec": {
      "name": "python3",
      "display_name": "Python 3"
    },
    "language_info": {
      "name": "python"
    },
    "widgets": {
      "application/vnd.jupyter.widget-state+json": {
        "d0c5de0f102a4653b7fecb3431039ff8": {
          "model_module": "@jupyter-widgets/controls",
          "model_name": "TextModel",
          "model_module_version": "1.5.0",
          "state": {
            "_dom_classes": [],
            "_model_module": "@jupyter-widgets/controls",
            "_model_module_version": "1.5.0",
            "_model_name": "TextModel",
            "_view_count": null,
            "_view_module": "@jupyter-widgets/controls",
            "_view_module_version": "1.5.0",
            "_view_name": "TextView",
            "continuous_update": true,
            "description": "Stock Symbol:",
            "description_tooltip": null,
            "disabled": false,
            "layout": "IPY_MODEL_c17742d5c6ad48768c38503772d8a46d",
            "placeholder": "​",
            "style": "IPY_MODEL_9c77508ea6a34246b2073077ff433a67",
            "value": "QQQ"
          }
        },
        "c17742d5c6ad48768c38503772d8a46d": {
          "model_module": "@jupyter-widgets/base",
          "model_name": "LayoutModel",
          "model_module_version": "1.2.0",
          "state": {
            "_model_module": "@jupyter-widgets/base",
            "_model_module_version": "1.2.0",
            "_model_name": "LayoutModel",
            "_view_count": null,
            "_view_module": "@jupyter-widgets/base",
            "_view_module_version": "1.2.0",
            "_view_name": "LayoutView",
            "align_content": null,
            "align_items": null,
            "align_self": null,
            "border": null,
            "bottom": null,
            "display": null,
            "flex": null,
            "flex_flow": null,
            "grid_area": null,
            "grid_auto_columns": null,
            "grid_auto_flow": null,
            "grid_auto_rows": null,
            "grid_column": null,
            "grid_gap": null,
            "grid_row": null,
            "grid_template_areas": null,
            "grid_template_columns": null,
            "grid_template_rows": null,
            "height": null,
            "justify_content": null,
            "justify_items": null,
            "left": null,
            "margin": null,
            "max_height": null,
            "max_width": null,
            "min_height": null,
            "min_width": null,
            "object_fit": null,
            "object_position": null,
            "order": null,
            "overflow": null,
            "overflow_x": null,
            "overflow_y": null,
            "padding": null,
            "right": null,
            "top": null,
            "visibility": null,
            "width": null
          }
        },
        "9c77508ea6a34246b2073077ff433a67": {
          "model_module": "@jupyter-widgets/controls",
          "model_name": "DescriptionStyleModel",
          "model_module_version": "1.5.0",
          "state": {
            "_model_module": "@jupyter-widgets/controls",
            "_model_module_version": "1.5.0",
            "_model_name": "DescriptionStyleModel",
            "_view_count": null,
            "_view_module": "@jupyter-widgets/base",
            "_view_module_version": "1.2.0",
            "_view_name": "StyleView",
            "description_width": ""
          }
        },
        "cdeb4a1ddc8945c4b405c0a3426a289e": {
          "model_module": "@jupyter-widgets/controls",
          "model_name": "IntSliderModel",
          "model_module_version": "1.5.0",
          "state": {
            "_dom_classes": [],
            "_model_module": "@jupyter-widgets/controls",
            "_model_module_version": "1.5.0",
            "_model_name": "IntSliderModel",
            "_view_count": null,
            "_view_module": "@jupyter-widgets/controls",
            "_view_module_version": "1.5.0",
            "_view_name": "IntSliderView",
            "continuous_update": true,
            "description": "Days:",
            "description_tooltip": null,
            "disabled": false,
            "layout": "IPY_MODEL_38fe89839fec4ac7b19d10c44dad48e1",
            "max": 360,
            "min": 20,
            "orientation": "horizontal",
            "readout": true,
            "readout_format": "d",
            "step": 10,
            "style": "IPY_MODEL_ada8d6c703894c33badc00a3a4ebddba",
            "value": 150
          }
        },
        "38fe89839fec4ac7b19d10c44dad48e1": {
          "model_module": "@jupyter-widgets/base",
          "model_name": "LayoutModel",
          "model_module_version": "1.2.0",
          "state": {
            "_model_module": "@jupyter-widgets/base",
            "_model_module_version": "1.2.0",
            "_model_name": "LayoutModel",
            "_view_count": null,
            "_view_module": "@jupyter-widgets/base",
            "_view_module_version": "1.2.0",
            "_view_name": "LayoutView",
            "align_content": null,
            "align_items": null,
            "align_self": null,
            "border": null,
            "bottom": null,
            "display": null,
            "flex": null,
            "flex_flow": null,
            "grid_area": null,
            "grid_auto_columns": null,
            "grid_auto_flow": null,
            "grid_auto_rows": null,
            "grid_column": null,
            "grid_gap": null,
            "grid_row": null,
            "grid_template_areas": null,
            "grid_template_columns": null,
            "grid_template_rows": null,
            "height": null,
            "justify_content": null,
            "justify_items": null,
            "left": null,
            "margin": null,
            "max_height": null,
            "max_width": null,
            "min_height": null,
            "min_width": null,
            "object_fit": null,
            "object_position": null,
            "order": null,
            "overflow": null,
            "overflow_x": null,
            "overflow_y": null,
            "padding": null,
            "right": null,
            "top": null,
            "visibility": null,
            "width": "500px"
          }
        },
        "ada8d6c703894c33badc00a3a4ebddba": {
          "model_module": "@jupyter-widgets/controls",
          "model_name": "SliderStyleModel",
          "model_module_version": "1.5.0",
          "state": {
            "_model_module": "@jupyter-widgets/controls",
            "_model_module_version": "1.5.0",
            "_model_name": "SliderStyleModel",
            "_view_count": null,
            "_view_module": "@jupyter-widgets/base",
            "_view_module_version": "1.2.0",
            "_view_name": "StyleView",
            "description_width": "",
            "handle_color": null
          }
        },
        "f94a779607b34e5fa762391f0fa27523": {
          "model_module": "@jupyter-widgets/controls",
          "model_name": "FloatSliderModel",
          "model_module_version": "1.5.0",
          "state": {
            "_dom_classes": [],
            "_model_module": "@jupyter-widgets/controls",
            "_model_module_version": "1.5.0",
            "_model_name": "FloatSliderModel",
            "_view_count": null,
            "_view_module": "@jupyter-widgets/controls",
            "_view_module_version": "1.5.0",
            "_view_name": "FloatSliderView",
            "continuous_update": true,
            "description": "Buy Trailing Stop (%):",
            "description_tooltip": null,
            "disabled": false,
            "layout": "IPY_MODEL_077d52a41c2a438790aecbb6a9b52c91",
            "max": 25,
            "min": 0.1,
            "orientation": "horizontal",
            "readout": true,
            "readout_format": ".2f",
            "step": 0.1,
            "style": "IPY_MODEL_ec767ab6d1524c92a612e0def0859c59",
            "value": 0.1
          }
        },
        "077d52a41c2a438790aecbb6a9b52c91": {
          "model_module": "@jupyter-widgets/base",
          "model_name": "LayoutModel",
          "model_module_version": "1.2.0",
          "state": {
            "_model_module": "@jupyter-widgets/base",
            "_model_module_version": "1.2.0",
            "_model_name": "LayoutModel",
            "_view_count": null,
            "_view_module": "@jupyter-widgets/base",
            "_view_module_version": "1.2.0",
            "_view_name": "LayoutView",
            "align_content": null,
            "align_items": null,
            "align_self": null,
            "border": null,
            "bottom": null,
            "display": null,
            "flex": null,
            "flex_flow": null,
            "grid_area": null,
            "grid_auto_columns": null,
            "grid_auto_flow": null,
            "grid_auto_rows": null,
            "grid_column": null,
            "grid_gap": null,
            "grid_row": null,
            "grid_template_areas": null,
            "grid_template_columns": null,
            "grid_template_rows": null,
            "height": null,
            "justify_content": null,
            "justify_items": null,
            "left": null,
            "margin": null,
            "max_height": null,
            "max_width": null,
            "min_height": null,
            "min_width": null,
            "object_fit": null,
            "object_position": null,
            "order": null,
            "overflow": null,
            "overflow_x": null,
            "overflow_y": null,
            "padding": null,
            "right": null,
            "top": null,
            "visibility": null,
            "width": "500px"
          }
        },
        "ec767ab6d1524c92a612e0def0859c59": {
          "model_module": "@jupyter-widgets/controls",
          "model_name": "SliderStyleModel",
          "model_module_version": "1.5.0",
          "state": {
            "_model_module": "@jupyter-widgets/controls",
            "_model_module_version": "1.5.0",
            "_model_name": "SliderStyleModel",
            "_view_count": null,
            "_view_module": "@jupyter-widgets/base",
            "_view_module_version": "1.2.0",
            "_view_name": "StyleView",
            "description_width": "",
            "handle_color": null
          }
        },
        "a69980d105cd4bbfafe109573f6ad86c": {
          "model_module": "@jupyter-widgets/controls",
          "model_name": "FloatSliderModel",
          "model_module_version": "1.5.0",
          "state": {
            "_dom_classes": [],
            "_model_module": "@jupyter-widgets/controls",
            "_model_module_version": "1.5.0",
            "_model_name": "FloatSliderModel",
            "_view_count": null,
            "_view_module": "@jupyter-widgets/controls",
            "_view_module_version": "1.5.0",
            "_view_name": "FloatSliderView",
            "continuous_update": true,
            "description": "Sell Trailing Stop (%):",
            "description_tooltip": null,
            "disabled": false,
            "layout": "IPY_MODEL_2ef044f1fd5a408f8e4887f00f4c5a0c",
            "max": 25,
            "min": 0.1,
            "orientation": "horizontal",
            "readout": true,
            "readout_format": ".2f",
            "step": 0.1,
            "style": "IPY_MODEL_ea0dbea5bc3c4363afefa88485162773",
            "value": 9.8
          }
        },
        "2ef044f1fd5a408f8e4887f00f4c5a0c": {
          "model_module": "@jupyter-widgets/base",
          "model_name": "LayoutModel",
          "model_module_version": "1.2.0",
          "state": {
            "_model_module": "@jupyter-widgets/base",
            "_model_module_version": "1.2.0",
            "_model_name": "LayoutModel",
            "_view_count": null,
            "_view_module": "@jupyter-widgets/base",
            "_view_module_version": "1.2.0",
            "_view_name": "LayoutView",
            "align_content": null,
            "align_items": null,
            "align_self": null,
            "border": null,
            "bottom": null,
            "display": null,
            "flex": null,
            "flex_flow": null,
            "grid_area": null,
            "grid_auto_columns": null,
            "grid_auto_flow": null,
            "grid_auto_rows": null,
            "grid_column": null,
            "grid_gap": null,
            "grid_row": null,
            "grid_template_areas": null,
            "grid_template_columns": null,
            "grid_template_rows": null,
            "height": null,
            "justify_content": null,
            "justify_items": null,
            "left": null,
            "margin": null,
            "max_height": null,
            "max_width": null,
            "min_height": null,
            "min_width": null,
            "object_fit": null,
            "object_position": null,
            "order": null,
            "overflow": null,
            "overflow_x": null,
            "overflow_y": null,
            "padding": null,
            "right": null,
            "top": null,
            "visibility": null,
            "width": "500px"
          }
        },
        "ea0dbea5bc3c4363afefa88485162773": {
          "model_module": "@jupyter-widgets/controls",
          "model_name": "SliderStyleModel",
          "model_module_version": "1.5.0",
          "state": {
            "_model_module": "@jupyter-widgets/controls",
            "_model_module_version": "1.5.0",
            "_model_name": "SliderStyleModel",
            "_view_count": null,
            "_view_module": "@jupyter-widgets/base",
            "_view_module_version": "1.2.0",
            "_view_name": "StyleView",
            "description_width": "",
            "handle_color": null
          }
        },
        "3399ad233d0548e9b31014ceb749c4d3": {
          "model_module": "@jupyter-widgets/controls",
          "model_name": "IntSliderModel",
          "model_module_version": "1.5.0",
          "state": {
            "_dom_classes": [],
            "_model_module": "@jupyter-widgets/controls",
            "_model_module_version": "1.5.0",
            "_model_name": "IntSliderModel",
            "_view_count": null,
            "_view_module": "@jupyter-widgets/controls",
            "_view_module_version": "1.5.0",
            "_view_name": "IntSliderView",
            "continuous_update": true,
            "description": "Start day:",
            "description_tooltip": null,
            "disabled": false,
            "layout": "IPY_MODEL_05904969e48b4da48f72485f282a20da",
            "max": 350,
            "min": 10,
            "orientation": "horizontal",
            "readout": true,
            "readout_format": "d",
            "step": 1,
            "style": "IPY_MODEL_8255277318fc429ebed6a7b58df9561b",
            "value": 350
          }
        },
        "05904969e48b4da48f72485f282a20da": {
          "model_module": "@jupyter-widgets/base",
          "model_name": "LayoutModel",
          "model_module_version": "1.2.0",
          "state": {
            "_model_module": "@jupyter-widgets/base",
            "_model_module_version": "1.2.0",
            "_model_name": "LayoutModel",
            "_view_count": null,
            "_view_module": "@jupyter-widgets/base",
            "_view_module_version": "1.2.0",
            "_view_name": "LayoutView",
            "align_content": null,
            "align_items": null,
            "align_self": null,
            "border": null,
            "bottom": null,
            "display": null,
            "flex": null,
            "flex_flow": null,
            "grid_area": null,
            "grid_auto_columns": null,
            "grid_auto_flow": null,
            "grid_auto_rows": null,
            "grid_column": null,
            "grid_gap": null,
            "grid_row": null,
            "grid_template_areas": null,
            "grid_template_columns": null,
            "grid_template_rows": null,
            "height": null,
            "justify_content": null,
            "justify_items": null,
            "left": null,
            "margin": null,
            "max_height": null,
            "max_width": null,
            "min_height": null,
            "min_width": null,
            "object_fit": null,
            "object_position": null,
            "order": null,
            "overflow": null,
            "overflow_x": null,
            "overflow_y": null,
            "padding": null,
            "right": null,
            "top": null,
            "visibility": null,
            "width": "500px"
          }
        },
        "8255277318fc429ebed6a7b58df9561b": {
          "model_module": "@jupyter-widgets/controls",
          "model_name": "SliderStyleModel",
          "model_module_version": "1.5.0",
          "state": {
            "_model_module": "@jupyter-widgets/controls",
            "_model_module_version": "1.5.0",
            "_model_name": "SliderStyleModel",
            "_view_count": null,
            "_view_module": "@jupyter-widgets/base",
            "_view_module_version": "1.2.0",
            "_view_name": "StyleView",
            "description_width": "",
            "handle_color": null
          }
        }
      }
    }
  },
  "cells": [
    {
      "cell_type": "markdown",
      "metadata": {
        "id": "view-in-github",
        "colab_type": "text"
      },
      "source": [
        "<a href=\"https://colab.research.google.com/github/mugurm/colab/blob/main/mugurm_stock_explorer_colab_edition.ipynb\" target=\"_parent\"><img src=\"https://colab.research.google.com/assets/colab-badge.svg\" alt=\"Open In Colab\"/></a>"
      ]
    },
    {
      "cell_type": "markdown",
      "source": [
        "# Stock Explorer (Automatic Trailing Stop edition)\n",
        "by mugurm"
      ],
      "metadata": {
        "id": "2jlvD8lv1a-n"
      }
    },
    {
      "cell_type": "code",
      "execution_count": 1,
      "metadata": {
        "colab": {
          "base_uri": "https://localhost:8080/",
          "height": 487,
          "referenced_widgets": [
            "d0c5de0f102a4653b7fecb3431039ff8",
            "c17742d5c6ad48768c38503772d8a46d",
            "9c77508ea6a34246b2073077ff433a67",
            "cdeb4a1ddc8945c4b405c0a3426a289e",
            "38fe89839fec4ac7b19d10c44dad48e1",
            "ada8d6c703894c33badc00a3a4ebddba",
            "f94a779607b34e5fa762391f0fa27523",
            "077d52a41c2a438790aecbb6a9b52c91",
            "ec767ab6d1524c92a612e0def0859c59",
            "a69980d105cd4bbfafe109573f6ad86c",
            "2ef044f1fd5a408f8e4887f00f4c5a0c",
            "ea0dbea5bc3c4363afefa88485162773",
            "3399ad233d0548e9b31014ceb749c4d3",
            "05904969e48b4da48f72485f282a20da",
            "8255277318fc429ebed6a7b58df9561b"
          ]
        },
        "id": "_Nl1oBpX4yH_",
        "outputId": "f2e5ec4e-0c18-4fad-d42e-6571d39fd36d"
      },
      "outputs": [
        {
          "output_type": "display_data",
          "data": {
            "text/plain": [
              "Text(value='QQQ', description='Stock Symbol:')"
            ],
            "application/vnd.jupyter.widget-view+json": {
              "version_major": 2,
              "version_minor": 0,
              "model_id": "d0c5de0f102a4653b7fecb3431039ff8"
            }
          },
          "metadata": {}
        },
        {
          "output_type": "display_data",
          "data": {
            "text/plain": [
              "IntSlider(value=150, description='Days:', layout=Layout(width='500px'), max=360, min=20, step=10)"
            ],
            "application/vnd.jupyter.widget-view+json": {
              "version_major": 2,
              "version_minor": 0,
              "model_id": "cdeb4a1ddc8945c4b405c0a3426a289e"
            }
          },
          "metadata": {}
        },
        {
          "output_type": "display_data",
          "data": {
            "text/plain": [
              "FloatSlider(value=0.1, description='Buy Trailing Stop (%):', layout=Layout(width='500px'), max=25.0, min=0.1)"
            ],
            "application/vnd.jupyter.widget-view+json": {
              "version_major": 2,
              "version_minor": 0,
              "model_id": "f94a779607b34e5fa762391f0fa27523"
            }
          },
          "metadata": {}
        },
        {
          "output_type": "display_data",
          "data": {
            "text/plain": [
              "FloatSlider(value=9.8, description='Sell Trailing Stop (%):', layout=Layout(width='500px'), max=25.0, min=0.1)"
            ],
            "application/vnd.jupyter.widget-view+json": {
              "version_major": 2,
              "version_minor": 0,
              "model_id": "a69980d105cd4bbfafe109573f6ad86c"
            }
          },
          "metadata": {}
        },
        {
          "output_type": "display_data",
          "data": {
            "text/plain": [
              "IntSlider(value=350, description='Start day:', layout=Layout(width='500px'), max=350, min=10)"
            ],
            "application/vnd.jupyter.widget-view+json": {
              "version_major": 2,
              "version_minor": 0,
              "model_id": "3399ad233d0548e9b31014ceb749c4d3"
            }
          },
          "metadata": {}
        },
        {
          "output_type": "stream",
          "name": "stdout",
          "text": [
            "\r[*********************100%***********************]  1 of 1 completed\n"
          ]
        },
        {
          "output_type": "display_data",
          "data": {},
          "metadata": {}
        },
        {
          "output_type": "display_data",
          "data": {
            "text/html": [
              "<div id='38861'>\n",
              "  <div class=\"bk-root\" id=\"6b528846-16b7-4b9c-9b3d-8964b4364b9e\" data-root-id=\"38861\"></div>\n",
              "</div>\n",
              "<script type=\"application/javascript\">(function(root) {\n",
              "  function embed_document(root) {\n",
              "    var docs_json = {\"ea446bb1-ef7e-4500-bd70-513cc6a81a51\":{\"defs\":[{\"extends\":null,\"module\":null,\"name\":\"ReactiveHTML1\",\"overrides\":[],\"properties\":[]},{\"extends\":null,\"module\":null,\"name\":\"FlexBox1\",\"overrides\":[],\"properties\":[{\"default\":\"flex-start\",\"kind\":null,\"name\":\"align_content\"},{\"default\":\"flex-start\",\"kind\":null,\"name\":\"align_items\"},{\"default\":\"row\",\"kind\":null,\"name\":\"flex_direction\"},{\"default\":\"wrap\",\"kind\":null,\"name\":\"flex_wrap\"},{\"default\":\"flex-start\",\"kind\":null,\"name\":\"justify_content\"}]},{\"extends\":null,\"module\":null,\"name\":\"GridStack1\",\"overrides\":[],\"properties\":[{\"default\":\"warn\",\"kind\":null,\"name\":\"mode\"},{\"default\":null,\"kind\":null,\"name\":\"ncols\"},{\"default\":null,\"kind\":null,\"name\":\"nrows\"},{\"default\":true,\"kind\":null,\"name\":\"allow_resize\"},{\"default\":true,\"kind\":null,\"name\":\"allow_drag\"},{\"default\":[],\"kind\":null,\"name\":\"state\"}]},{\"extends\":null,\"module\":null,\"name\":\"click1\",\"overrides\":[],\"properties\":[{\"default\":\"\",\"kind\":null,\"name\":\"terminal_output\"},{\"default\":\"\",\"kind\":null,\"name\":\"debug_name\"},{\"default\":0,\"kind\":null,\"name\":\"clears\"}]},{\"extends\":null,\"module\":null,\"name\":\"NotificationAreaBase1\",\"overrides\":[],\"properties\":[{\"default\":\"bottom-right\",\"kind\":null,\"name\":\"position\"},{\"default\":0,\"kind\":null,\"name\":\"_clear\"}]},{\"extends\":null,\"module\":null,\"name\":\"NotificationArea1\",\"overrides\":[],\"properties\":[{\"default\":[],\"kind\":null,\"name\":\"notifications\"},{\"default\":\"bottom-right\",\"kind\":null,\"name\":\"position\"},{\"default\":0,\"kind\":null,\"name\":\"_clear\"},{\"default\":[{\"background\":\"#ffc107\",\"icon\":{\"className\":\"fas fa-exclamation-triangle\",\"color\":\"white\",\"tagName\":\"i\"},\"type\":\"warning\"},{\"background\":\"#007bff\",\"icon\":{\"className\":\"fas fa-info-circle\",\"color\":\"white\",\"tagName\":\"i\"},\"type\":\"info\"}],\"kind\":null,\"name\":\"types\"}]},{\"extends\":null,\"module\":null,\"name\":\"Notification\",\"overrides\":[],\"properties\":[{\"default\":null,\"kind\":null,\"name\":\"background\"},{\"default\":3000,\"kind\":null,\"name\":\"duration\"},{\"default\":null,\"kind\":null,\"name\":\"icon\"},{\"default\":\"\",\"kind\":null,\"name\":\"message\"},{\"default\":null,\"kind\":null,\"name\":\"notification_type\"},{\"default\":false,\"kind\":null,\"name\":\"_destroyed\"}]},{\"extends\":null,\"module\":null,\"name\":\"TemplateActions1\",\"overrides\":[],\"properties\":[{\"default\":0,\"kind\":null,\"name\":\"open_modal\"},{\"default\":0,\"kind\":null,\"name\":\"close_modal\"}]},{\"extends\":null,\"module\":null,\"name\":\"MaterialTemplateActions1\",\"overrides\":[],\"properties\":[{\"default\":0,\"kind\":null,\"name\":\"open_modal\"},{\"default\":0,\"kind\":null,\"name\":\"close_modal\"}]}],\"roots\":{\"references\":[{\"attributes\":{\"active_drag\":{\"id\":\"38882\"},\"active_scroll\":{\"id\":\"38883\"},\"tools\":[{\"id\":\"38881\"},{\"id\":\"38882\"},{\"id\":\"38883\"},{\"id\":\"38884\"},{\"id\":\"38885\"}]},\"id\":\"38887\",\"type\":\"Toolbar\"},{\"attributes\":{},\"id\":\"38898\",\"type\":\"AllLabels\"},{\"attributes\":{\"line_alpha\":0.1,\"line_width\":2,\"x\":{\"field\":\"Date\"},\"y\":{\"field\":\"High\"}},\"id\":\"38903\",\"type\":\"Line\"},{\"attributes\":{\"angle\":{\"value\":0.0},\"fill_alpha\":{\"value\":1.0},\"fill_color\":{\"value\":\"green\"},\"hatch_alpha\":{\"value\":1.0},\"hatch_color\":{\"value\":\"green\"},\"hatch_scale\":{\"value\":12.0},\"hatch_weight\":{\"value\":1.0},\"line_alpha\":{\"value\":1.0},\"line_cap\":{\"value\":\"butt\"},\"line_color\":{\"value\":\"green\"},\"line_dash\":{\"value\":[]},\"line_dash_offset\":{\"value\":0},\"line_join\":{\"value\":\"bevel\"},\"line_width\":{\"value\":1},\"marker\":{\"value\":\"circle\"},\"size\":{\"value\":10},\"x\":{\"field\":\"x\"},\"y\":{\"field\":\"y\"}},\"id\":\"38952\",\"type\":\"Scatter\"},{\"attributes\":{\"line_alpha\":0.2,\"line_color\":\"#6d904f\",\"line_width\":2,\"x\":{\"field\":\"x\"},\"y\":{\"field\":\"y\"}},\"id\":\"38931\",\"type\":\"Line\"},{\"attributes\":{\"coordinates\":null,\"data_source\":{\"id\":\"38926\"},\"glyph\":{\"id\":\"38929\"},\"group\":null,\"hover_glyph\":null,\"muted_glyph\":{\"id\":\"38931\"},\"nonselection_glyph\":{\"id\":\"38930\"},\"selection_glyph\":{\"id\":\"38934\"},\"view\":{\"id\":\"38933\"}},\"id\":\"38932\",\"type\":\"GlyphRenderer\"},{\"attributes\":{},\"id\":\"38897\",\"type\":\"BasicTickFormatter\"},{\"attributes\":{},\"id\":\"38972\",\"type\":\"UnionRenderers\"},{\"attributes\":{\"line_width\":2,\"x\":{\"field\":\"Date\"},\"y\":{\"field\":\"Low\"}},\"id\":\"38911\",\"type\":\"Line\"},{\"attributes\":{\"coordinates\":null,\"data_source\":{\"id\":\"38899\"},\"glyph\":{\"id\":\"38902\"},\"group\":null,\"hover_glyph\":null,\"muted_glyph\":{\"id\":\"38904\"},\"nonselection_glyph\":{\"id\":\"38903\"},\"selection_glyph\":{\"id\":\"38907\"},\"view\":{\"id\":\"38906\"}},\"id\":\"38905\",\"type\":\"GlyphRenderer\"},{\"attributes\":{\"line_color\":\"#6d904f\",\"line_width\":2,\"x\":{\"field\":\"x\"},\"y\":{\"field\":\"y\"}},\"id\":\"38934\",\"type\":\"Line\"},{\"attributes\":{\"source\":{\"id\":\"38899\"}},\"id\":\"38906\",\"type\":\"CDSView\"},{\"attributes\":{\"coordinates\":null,\"data_source\":{\"id\":\"38944\"},\"glyph\":{\"id\":\"38947\"},\"group\":null,\"hover_glyph\":null,\"muted_glyph\":{\"id\":\"38949\"},\"nonselection_glyph\":{\"id\":\"38948\"},\"selection_glyph\":{\"id\":\"38952\"},\"view\":{\"id\":\"38951\"}},\"id\":\"38950\",\"type\":\"GlyphRenderer\"},{\"attributes\":{\"fill_alpha\":{\"value\":0.2},\"fill_color\":{\"value\":\"red\"},\"hatch_alpha\":{\"value\":0.2},\"hatch_color\":{\"value\":\"red\"},\"line_alpha\":{\"value\":0.2},\"line_color\":{\"value\":\"red\"},\"size\":{\"value\":10},\"x\":{\"field\":\"x\"},\"y\":{\"field\":\"y\"}},\"id\":\"38940\",\"type\":\"Scatter\"},{\"attributes\":{\"source\":{\"id\":\"38917\"}},\"id\":\"38924\",\"type\":\"CDSView\"},{\"attributes\":{\"line_color\":\"red\",\"line_width\":2,\"x\":{\"field\":\"Date\"},\"y\":{\"field\":\"Trailing_Sell_Level\"}},\"id\":\"38920\",\"type\":\"Line\"},{\"attributes\":{\"end\":347.55242056884765,\"reset_end\":347.55242056884765,\"reset_start\":235.3832126098633,\"start\":235.3832126098633,\"tags\":[[[\"High\",\"High\",null]]]},\"id\":\"38863\",\"type\":\"Range1d\"},{\"attributes\":{\"data\":{\"x\":{\"__ndarray__\":\"\",\"dtype\":\"float64\",\"order\":\"little\",\"shape\":[0]},\"y\":{\"__ndarray__\":\"\",\"dtype\":\"float64\",\"order\":\"little\",\"shape\":[0]}},\"selected\":{\"id\":\"38945\"},\"selection_policy\":{\"id\":\"38974\"}},\"id\":\"38944\",\"type\":\"ColumnDataSource\"},{\"attributes\":{\"fill_alpha\":{\"value\":0.1},\"fill_color\":{\"value\":\"red\"},\"hatch_alpha\":{\"value\":0.1},\"hatch_color\":{\"value\":\"red\"},\"line_alpha\":{\"value\":0.1},\"line_color\":{\"value\":\"red\"},\"size\":{\"value\":10},\"x\":{\"field\":\"x\"},\"y\":{\"field\":\"y\"}},\"id\":\"38939\",\"type\":\"Scatter\"},{\"attributes\":{\"line_alpha\":0.2,\"line_width\":2,\"x\":{\"field\":\"Date\"},\"y\":{\"field\":\"Low\"}},\"id\":\"38913\",\"type\":\"Line\"},{\"attributes\":{\"fill_color\":{\"value\":\"red\"},\"hatch_color\":{\"value\":\"red\"},\"line_color\":{\"value\":\"red\"},\"size\":{\"value\":10},\"x\":{\"field\":\"x\"},\"y\":{\"field\":\"y\"}},\"id\":\"38938\",\"type\":\"Scatter\"},{\"attributes\":{\"line_alpha\":0.1,\"line_width\":2,\"x\":{\"field\":\"Date\"},\"y\":{\"field\":\"Low\"}},\"id\":\"38912\",\"type\":\"Line\"},{\"attributes\":{\"source\":{\"id\":\"38935\"}},\"id\":\"38942\",\"type\":\"CDSView\"},{\"attributes\":{\"data\":{\"Date\":{\"__ndarray__\":\"AACAR81SeEIAAECtH1N4QgAAABNyU3hCAADAeMRTeEIAAMAPDlV4QgAAgHVgVXhCAABA27JVeEIAAABBBVZ4QgAAANhOV3hCAADAPaFXeEIAAICj81d4QgAAQAlGWHhCAACAOj1ZeEIAAECgj1l4QgAAAAbiWXhCAADAazRaeEIAAIDRhlp4QgAAgGjQW3hCAABAziJceEIAAAA0dVx4QgAAwJnHXHhCAAAAy75deEIAAMAwEV54QgAAgJZjXnhCAABA/LVeeEIAAABiCF94QgAAQJP/X3hCAAAA+VFgeEIAAMBepGB4QgAAgMT2YHhCAABAKklheEIAAIBbQGJ4QgAAQMGSYnhCAAAAJ+VieEIAAMCMN2N4QgAAgPKJY3hCAADAI4FkeEIAAICJ02R4QgAAQO8lZXhCAAAAVXhleEIAAMC6ymV4QgAAwFEUZ3hCAACAt2ZneEIAAEAduWd4QgAAAIMLaHhCAABAtAJpeEIAAAAaVWl4QgAAwH+naXhCAACA5flpeEIAAEBLTGp4QgAAgHxDa3hCAABA4pVreEIAAABI6Gt4QgAAwK06bHhCAACAE41seEIAAMBEhG14QgAAgKrWbXhCAABAEClueEIAAAB2e254QgAAwNvNbnhCAAAADcVveEIAAMByF3B4QgAAgNhpcHhCAABAPrxweEIAAACkDnF4QgAAQNUFcnhCAAAAO1hyeEIAAMCgqnJ4QgAAgAb9cnhCAABAbE9zeEIAAICdRnR4QgAAQAOZdHhCAAAAaet0eEIAAMDOPXV4QgAAwGWHdnhCAACAy9l2eEIAAEAxLHd4QgAAAJd+d3hCAADA/NB3eEIAAAAuyHh4QgAAwJMaeXhCAACA+Wx5eEIAAEBfv3l4QgAAAMURenhCAABA9gh7eEIAAABcW3t4QgAAwMGte3hCAACAJwB8eEIAAECNUnx4QgAAgL5JfXhCAABAJJx9eEIAAACK7n14QgAAwO9AfnhCAACAVZN+eEIAAMCGin94QgAAgOzcf3hCAABAUi+AeEIAAAC4gYB4QgAAwB3UgHhCAAAAT8uBeEIAAMC0HYJ4QgAAgBpwgnhCAABAgMKCeEIAAADmFIN4Qg==\",\"dtype\":\"float64\",\"order\":\"little\",\"shape\":[104]},\"Low\":{\"__ndarray__\":\"AAAAQDOvcEAAAAAA19twQAAAACBcZ3BAAAAA4Hp4cEAAAADgenBwQAAAACCuO3BAAAAAAABkcEAAAADgo2RwQAAAAIAUYnBAAAAA4HpocEAAAAAAKVRwQAAAAKBwRXBAAAAAYLjecEAAAAAghc9wQAAAAIDrEXFAAAAAANcbcUAAAABgj0JxQAAAAKBHeXFAAAAAYLhacUAAAACAPR5xQAAAACBcO3FAAAAAIK6rcUAAAADgeuxxQAAAAEDhknFAAAAA4FEIckAAAACAFD5yQAAAAIA9HnJAAAAAQDMjckAAAADAzERyQAAAACCuK3NAAAAA4KMIc0AAAAAgheNyQAAAAMAe5XJAAAAAYLj6ckAAAABAM8NyQAAAAAAAlHJAAAAAQOG+ckAAAABgj85yQAAAAEAzA3NAAAAAYGbyckAAAACgmaFyQAAAAIA9XnJAAAAAwPVIckAAAADAzEhyQAAAAMDMIHJAAAAAoHBVckAAAAAgXE9yQAAAAEAzI3JAAAAAgOsFckAAAACA621yQAAAAMAevXJAAAAAIIV7ckAAAACAFG5yQAAAAKBHPXJAAAAAgBT2cUAAAABACtNxQAAAAEAzV3JAAAAAANdTckAAAABACpNyQAAAAIDr9XJAAAAAACngckAAAABgZiZzQAAAAEAzH3NAAAAAACkwc0AAAABAMy9zQAAAAIA9PnNAAAAA4FEMc0AAAADAzGBzQAAAAMD1jHNAAAAAoJm5c0AAAABguNZzQAAAAKBH3XNAAAAAwB6hc0AAAADAHo1zQAAAAAAAlHNAAAAAwPW0c0AAAADAHolzQAAAAIAUmnNAAAAAgMK5c0AAAADgo8BzQAAAAIA92nNAAAAA4HrEc0AAAAAgha9zQAAAAKCZoXNAAAAAANebc0AAAACAPV5zQAAAAKBwdXNAAAAAwMywc0AAAAAgXO9zQAAAAKBwEXRAAAAAgMLZc0AAAABA4dJzQAAAAIDrsXNAAAAAIFzDc0AAAADAHhV0QAAAAMAeFXRAAAAAoJkZdEAAAACA60F0QAAAAEAKL3RAAAAAIFw/dEAAAADgUWB0QAAAAOCjcHRAAAAAAAC4dEAAAADA9fZ0QA==\",\"dtype\":\"float64\",\"order\":\"little\",\"shape\":[104]}},\"selected\":{\"id\":\"38909\"},\"selection_policy\":{\"id\":\"38966\"}},\"id\":\"38908\",\"type\":\"ColumnDataSource\"},{\"attributes\":{},\"id\":\"38974\",\"type\":\"UnionRenderers\"},{\"attributes\":{},\"id\":\"38945\",\"type\":\"Selection\"},{\"attributes\":{\"angle\":{\"value\":0.0},\"fill_alpha\":{\"value\":1.0},\"fill_color\":{\"value\":\"red\"},\"hatch_alpha\":{\"value\":1.0},\"hatch_color\":{\"value\":\"red\"},\"hatch_scale\":{\"value\":12.0},\"hatch_weight\":{\"value\":1.0},\"line_alpha\":{\"value\":1.0},\"line_cap\":{\"value\":\"butt\"},\"line_color\":{\"value\":\"red\"},\"line_dash\":{\"value\":[]},\"line_dash_offset\":{\"value\":0},\"line_join\":{\"value\":\"bevel\"},\"line_width\":{\"value\":1},\"marker\":{\"value\":\"circle\"},\"size\":{\"value\":10},\"x\":{\"field\":\"x\"},\"y\":{\"field\":\"y\"}},\"id\":\"38943\",\"type\":\"Scatter\"},{\"attributes\":{},\"id\":\"38909\",\"type\":\"Selection\"},{\"attributes\":{\"coordinates\":null,\"data_source\":{\"id\":\"38908\"},\"glyph\":{\"id\":\"38911\"},\"group\":null,\"hover_glyph\":null,\"muted_glyph\":{\"id\":\"38913\"},\"nonselection_glyph\":{\"id\":\"38912\"},\"selection_glyph\":{\"id\":\"38916\"},\"view\":{\"id\":\"38915\"}},\"id\":\"38914\",\"type\":\"GlyphRenderer\"},{\"attributes\":{\"source\":{\"id\":\"38908\"}},\"id\":\"38915\",\"type\":\"CDSView\"},{\"attributes\":{\"source\":{\"id\":\"38926\"}},\"id\":\"38933\",\"type\":\"CDSView\"},{\"attributes\":{},\"id\":\"38936\",\"type\":\"Selection\"},{\"attributes\":{},\"id\":\"38964\",\"type\":\"UnionRenderers\"},{\"attributes\":{\"source\":{\"id\":\"38944\"}},\"id\":\"38951\",\"type\":\"CDSView\"},{\"attributes\":{\"line_color\":\"#6d904f\",\"line_width\":2,\"x\":{\"field\":\"x\"},\"y\":{\"field\":\"y\"}},\"id\":\"38929\",\"type\":\"Line\"},{\"attributes\":{\"fill_alpha\":{\"value\":0.1},\"fill_color\":{\"value\":\"green\"},\"hatch_alpha\":{\"value\":0.1},\"hatch_color\":{\"value\":\"green\"},\"line_alpha\":{\"value\":0.1},\"line_color\":{\"value\":\"green\"},\"size\":{\"value\":10},\"x\":{\"field\":\"x\"},\"y\":{\"field\":\"y\"}},\"id\":\"38948\",\"type\":\"Scatter\"},{\"attributes\":{\"line_alpha\":0.2,\"line_color\":\"red\",\"line_width\":2,\"x\":{\"field\":\"Date\"},\"y\":{\"field\":\"Trailing_Sell_Level\"}},\"id\":\"38922\",\"type\":\"Line\"},{\"attributes\":{\"end\":1684454400000.0,\"reset_end\":1684454400000.0,\"reset_start\":1671494400000.0,\"start\":1671494400000.0,\"tags\":[[[\"Date\",\"Date\",null]]]},\"id\":\"38862\",\"type\":\"Range1d\"},{\"attributes\":{\"line_width\":2,\"x\":{\"field\":\"Date\"},\"y\":{\"field\":\"Low\"}},\"id\":\"38916\",\"type\":\"Line\"},{\"attributes\":{},\"id\":\"38894\",\"type\":\"DatetimeTickFormatter\"},{\"attributes\":{\"data\":{\"x\":{\"__ndarray__\":\"\",\"dtype\":\"float64\",\"order\":\"little\",\"shape\":[0]},\"y\":{\"__ndarray__\":\"\",\"dtype\":\"float64\",\"order\":\"little\",\"shape\":[0]}},\"selected\":{\"id\":\"38927\"},\"selection_policy\":{\"id\":\"38970\"}},\"id\":\"38926\",\"type\":\"ColumnDataSource\"},{\"attributes\":{\"fill_color\":{\"value\":\"green\"},\"hatch_color\":{\"value\":\"green\"},\"line_color\":{\"value\":\"green\"},\"size\":{\"value\":10},\"x\":{\"field\":\"x\"},\"y\":{\"field\":\"y\"}},\"id\":\"38947\",\"type\":\"Scatter\"},{\"attributes\":{\"fill_alpha\":{\"value\":0.2},\"fill_color\":{\"value\":\"green\"},\"hatch_alpha\":{\"value\":0.2},\"hatch_color\":{\"value\":\"green\"},\"line_alpha\":{\"value\":0.2},\"line_color\":{\"value\":\"green\"},\"size\":{\"value\":10},\"x\":{\"field\":\"x\"},\"y\":{\"field\":\"y\"}},\"id\":\"38949\",\"type\":\"Scatter\"},{\"attributes\":{\"children\":[{\"id\":\"38864\"}],\"height\":300,\"margin\":[0,0,0,0],\"name\":\"Row42684\",\"sizing_mode\":\"fixed\",\"tags\":[\"embedded\"],\"width\":600},\"id\":\"38861\",\"type\":\"Row\"},{\"attributes\":{\"mantissas\":[1,2,5],\"max_interval\":500.0,\"num_minor_ticks\":0},\"id\":\"38977\",\"type\":\"AdaptiveTicker\"},{\"attributes\":{\"below\":[{\"id\":\"38873\"}],\"center\":[{\"id\":\"38876\"},{\"id\":\"38880\"}],\"height\":300,\"left\":[{\"id\":\"38877\"}],\"margin\":[5,5,5,5],\"min_border_bottom\":10,\"min_border_left\":10,\"min_border_right\":10,\"min_border_top\":10,\"renderers\":[{\"id\":\"38905\"},{\"id\":\"38914\"},{\"id\":\"38923\"},{\"id\":\"38932\"},{\"id\":\"38941\"},{\"id\":\"38950\"}],\"sizing_mode\":\"fixed\",\"title\":{\"id\":\"38865\"},\"toolbar\":{\"id\":\"38887\"},\"x_range\":{\"id\":\"38862\"},\"x_scale\":{\"id\":\"38869\"},\"y_range\":{\"id\":\"38863\"},\"y_scale\":{\"id\":\"38871\"}},\"id\":\"38864\",\"subtype\":\"Figure\",\"type\":\"Plot\"},{\"attributes\":{},\"id\":\"38966\",\"type\":\"UnionRenderers\"},{\"attributes\":{\"base\":60,\"mantissas\":[1,2,5,10,15,20,30],\"max_interval\":1800000.0,\"min_interval\":1000.0,\"num_minor_ticks\":0},\"id\":\"38978\",\"type\":\"AdaptiveTicker\"},{\"attributes\":{\"data\":{\"x\":{\"__ndarray__\":\"\",\"dtype\":\"float64\",\"order\":\"little\",\"shape\":[0]},\"y\":{\"__ndarray__\":\"\",\"dtype\":\"float64\",\"order\":\"little\",\"shape\":[0]}},\"selected\":{\"id\":\"38936\"},\"selection_policy\":{\"id\":\"38972\"}},\"id\":\"38935\",\"type\":\"ColumnDataSource\"},{\"attributes\":{},\"id\":\"38927\",\"type\":\"Selection\"},{\"attributes\":{},\"id\":\"38869\",\"type\":\"LinearScale\"},{\"attributes\":{\"months\":[0,1,2,3,4,5,6,7,8,9,10,11]},\"id\":\"38984\",\"type\":\"MonthsTicker\"},{\"attributes\":{\"days\":[1,8,15,22]},\"id\":\"38982\",\"type\":\"DaysTicker\"},{\"attributes\":{},\"id\":\"38988\",\"type\":\"YearsTicker\"},{\"attributes\":{\"line_width\":2,\"x\":{\"field\":\"Date\"},\"y\":{\"field\":\"High\"}},\"id\":\"38902\",\"type\":\"Line\"},{\"attributes\":{\"num_minor_ticks\":5,\"tickers\":[{\"id\":\"38977\"},{\"id\":\"38978\"},{\"id\":\"38979\"},{\"id\":\"38980\"},{\"id\":\"38981\"},{\"id\":\"38982\"},{\"id\":\"38983\"},{\"id\":\"38984\"},{\"id\":\"38985\"},{\"id\":\"38986\"},{\"id\":\"38987\"},{\"id\":\"38988\"}]},\"id\":\"38874\",\"type\":\"DatetimeTicker\"},{\"attributes\":{\"base\":24,\"mantissas\":[1,2,4,6,8,12],\"max_interval\":43200000.0,\"min_interval\":3600000.0,\"num_minor_ticks\":0},\"id\":\"38979\",\"type\":\"AdaptiveTicker\"},{\"attributes\":{\"line_width\":2,\"x\":{\"field\":\"Date\"},\"y\":{\"field\":\"High\"}},\"id\":\"38907\",\"type\":\"Line\"},{\"attributes\":{\"axis_label\":\"High\",\"coordinates\":null,\"formatter\":{\"id\":\"38897\"},\"group\":null,\"major_label_policy\":{\"id\":\"38898\"},\"ticker\":{\"id\":\"38878\"}},\"id\":\"38877\",\"type\":\"LinearAxis\"},{\"attributes\":{\"days\":[1,2,3,4,5,6,7,8,9,10,11,12,13,14,15,16,17,18,19,20,21,22,23,24,25,26,27,28,29,30,31]},\"id\":\"38980\",\"type\":\"DaysTicker\"},{\"attributes\":{\"coordinates\":null,\"group\":null,\"text_color\":\"black\",\"text_font_size\":\"12pt\"},\"id\":\"38865\",\"type\":\"Title\"},{\"attributes\":{\"data\":{\"Date\":{\"__ndarray__\":\"AACAR81SeEIAAECtH1N4QgAAABNyU3hCAADAeMRTeEIAAMAPDlV4QgAAgHVgVXhCAABA27JVeEIAAABBBVZ4QgAAANhOV3hCAADAPaFXeEIAAICj81d4QgAAQAlGWHhCAACAOj1ZeEIAAECgj1l4QgAAAAbiWXhCAADAazRaeEIAAIDRhlp4QgAAgGjQW3hCAABAziJceEIAAAA0dVx4QgAAwJnHXHhCAAAAy75deEIAAMAwEV54QgAAgJZjXnhCAABA/LVeeEIAAABiCF94QgAAQJP/X3hCAAAA+VFgeEIAAMBepGB4QgAAgMT2YHhCAABAKklheEIAAIBbQGJ4QgAAQMGSYnhCAAAAJ+VieEIAAMCMN2N4QgAAgPKJY3hCAADAI4FkeEIAAICJ02R4QgAAQO8lZXhCAAAAVXhleEIAAMC6ymV4QgAAwFEUZ3hCAACAt2ZneEIAAEAduWd4QgAAAIMLaHhCAABAtAJpeEIAAAAaVWl4QgAAwH+naXhCAACA5flpeEIAAEBLTGp4QgAAgHxDa3hCAABA4pVreEIAAABI6Gt4QgAAwK06bHhCAACAE41seEIAAMBEhG14QgAAgKrWbXhCAABAEClueEIAAAB2e254QgAAwNvNbnhCAAAADcVveEIAAMByF3B4QgAAgNhpcHhCAABAPrxweEIAAACkDnF4QgAAQNUFcnhCAAAAO1hyeEIAAMCgqnJ4QgAAgAb9cnhCAABAbE9zeEIAAICdRnR4QgAAQAOZdHhCAAAAaet0eEIAAMDOPXV4QgAAwGWHdnhCAACAy9l2eEIAAEAxLHd4QgAAAJd+d3hCAADA/NB3eEIAAAAuyHh4QgAAwJMaeXhCAACA+Wx5eEIAAEBfv3l4QgAAAMURenhCAABA9gh7eEIAAABcW3t4QgAAwMGte3hCAACAJwB8eEIAAECNUnx4QgAAgL5JfXhCAABAJJx9eEIAAACK7n14QgAAwO9AfnhCAACAVZN+eEIAAMCGin94QgAAgOzcf3hCAABAUi+AeEIAAAC4gYB4QgAAwB3UgHhCAAAAT8uBeEIAAMC0HYJ4QgAAgBpwgnhCAABAgMKCeEIAAADmFIN4Qg==\",\"dtype\":\"float64\",\"order\":\"little\",\"shape\":[104]},\"High\":{\"__ndarray__\":\"AAAAwB71cEAAAADgeixxQAAAAAAp6HBAAAAA4KPAcEAAAACgma1wQAAAACCFl3BAAAAAYGa2cEAAAABgj6ZwQAAAAGBm4nBAAAAAQDO3cEAAAAAgXINwQAAAAEAK33BAAAAA4KM0cUAAAABACg9xQAAAAGCPWnFAAAAAoJmBcUAAAAAghZNxQAAAAKCZrXFAAAAAQArLcUAAAACAFFZxQAAAAOBRsHFAAAAAIFwjckAAAADAzBhyQAAAAIDCBXJAAAAA4FFYckAAAAAAKaRyQAAAAIAUZnJAAAAAIIVrckAAAABA4fZyQAAAAEDhmnNAAAAAgD2Gc0AAAABgjx5zQAAAAOB6cHNAAAAAAABYc0AAAAAA109zQAAAAMAe2XJAAAAAoJkRc0AAAAAghTtzQAAAAOBRVHNAAAAAQOFGc0AAAABA4d5yQAAAACCuq3JAAAAAgMKFckAAAACAFKJyQAAAACCFT3JAAAAAANeHckAAAACA64FyQAAAAEDhXnJAAAAAQOFmckAAAABguL5yQAAAAAAAAHNAAAAAACnQckAAAABA4aZyQAAAACCuz3JAAAAAoJllckAAAAAghWdyQAAAAEDhnnJAAAAA4FG0ckAAAABA4TJzQAAAAGBmUnNAAAAAwMwkc0AAAADAzGxzQAAAAAAAtHNAAAAAYGaic0AAAAAA129zQAAAAEAzi3NAAAAAQDNDc0AAAACgmZVzQAAAAMAexXNAAAAAYLgSdEAAAABguAZ0QAAAAIAUGnRAAAAAwPXwc0AAAADAzOhzQAAAAGC43nNAAAAAgD3ec0AAAABguOZzQAAAAGBm+nNAAAAAgMIFdEAAAABAM/NzQAAAAGC4FnRAAAAA4KP8c0AAAADgUfRzQAAAAGBm1nNAAAAAANfbc0AAAAAgha9zQAAAAEAKr3NAAAAAgMINdEAAAABgZip0QAAAAIAUOnRAAAAAQDMndEAAAAAghSd0QAAAACCu43NAAAAAACk8dEAAAADgo0B0QAAAAIAULnRAAAAAAClgdEAAAAAAAGx0QAAAAGC4cnRAAAAA4HpwdEAAAABgZo50QAAAACBcu3RAAAAAANcXdUAAAACgRyN1QA==\",\"dtype\":\"float64\",\"order\":\"little\",\"shape\":[104]}},\"selected\":{\"id\":\"38900\"},\"selection_policy\":{\"id\":\"38964\"}},\"id\":\"38899\",\"type\":\"ColumnDataSource\"},{\"attributes\":{\"days\":[1,4,7,10,13,16,19,22,25,28]},\"id\":\"38981\",\"type\":\"DaysTicker\"},{\"attributes\":{\"axis\":{\"id\":\"38873\"},\"coordinates\":null,\"grid_line_color\":null,\"group\":null,\"ticker\":null},\"id\":\"38876\",\"type\":\"Grid\"},{\"attributes\":{\"days\":[1,15]},\"id\":\"38983\",\"type\":\"DaysTicker\"},{\"attributes\":{\"line_color\":\"red\",\"line_width\":2,\"x\":{\"field\":\"Date\"},\"y\":{\"field\":\"Trailing_Sell_Level\"}},\"id\":\"38925\",\"type\":\"Line\"},{\"attributes\":{},\"id\":\"38871\",\"type\":\"LinearScale\"},{\"attributes\":{\"months\":[0,6]},\"id\":\"38987\",\"type\":\"MonthsTicker\"},{\"attributes\":{},\"id\":\"38882\",\"type\":\"PanTool\"},{\"attributes\":{\"months\":[0,2,4,6,8,10]},\"id\":\"38985\",\"type\":\"MonthsTicker\"},{\"attributes\":{\"axis_label\":\"Date\",\"coordinates\":null,\"formatter\":{\"id\":\"38894\"},\"group\":null,\"major_label_policy\":{\"id\":\"38895\"},\"ticker\":{\"id\":\"38874\"}},\"id\":\"38873\",\"type\":\"DatetimeAxis\"},{\"attributes\":{\"months\":[0,4,8]},\"id\":\"38986\",\"type\":\"MonthsTicker\"},{\"attributes\":{},\"id\":\"38968\",\"type\":\"UnionRenderers\"},{\"attributes\":{\"axis\":{\"id\":\"38877\"},\"coordinates\":null,\"dimension\":1,\"grid_line_color\":null,\"group\":null,\"ticker\":null},\"id\":\"38880\",\"type\":\"Grid\"},{\"attributes\":{},\"id\":\"38878\",\"type\":\"BasicTicker\"},{\"attributes\":{\"coordinates\":null,\"data_source\":{\"id\":\"38917\"},\"glyph\":{\"id\":\"38920\"},\"group\":null,\"hover_glyph\":null,\"muted_glyph\":{\"id\":\"38922\"},\"nonselection_glyph\":{\"id\":\"38921\"},\"selection_glyph\":{\"id\":\"38925\"},\"view\":{\"id\":\"38924\"}},\"id\":\"38923\",\"type\":\"GlyphRenderer\"},{\"attributes\":{},\"id\":\"38883\",\"type\":\"WheelZoomTool\"},{\"attributes\":{\"line_alpha\":0.1,\"line_color\":\"#6d904f\",\"line_width\":2,\"x\":{\"field\":\"x\"},\"y\":{\"field\":\"y\"}},\"id\":\"38930\",\"type\":\"Line\"},{\"attributes\":{},\"id\":\"38900\",\"type\":\"Selection\"},{\"attributes\":{},\"id\":\"38881\",\"type\":\"SaveTool\"},{\"attributes\":{},\"id\":\"38918\",\"type\":\"Selection\"},{\"attributes\":{\"overlay\":{\"id\":\"38886\"}},\"id\":\"38884\",\"type\":\"BoxZoomTool\"},{\"attributes\":{\"line_alpha\":0.1,\"line_color\":\"red\",\"line_width\":2,\"x\":{\"field\":\"Date\"},\"y\":{\"field\":\"Trailing_Sell_Level\"}},\"id\":\"38921\",\"type\":\"Line\"},{\"attributes\":{},\"id\":\"38885\",\"type\":\"ResetTool\"},{\"attributes\":{\"data\":{\"Date\":{\"__ndarray__\":\"AACAR81SeEIAAECtH1N4QgAAABNyU3hCAADAeMRTeEIAAMAPDlV4QgAAgHVgVXhCAABA27JVeEIAAABBBVZ4QgAAANhOV3hCAADAPaFXeEIAAICj81d4QgAAQAlGWHhCAACAOj1ZeEIAAECgj1l4QgAAAAbiWXhCAADAazRaeEIAAIDRhlp4QgAAgGjQW3hCAABAziJceEIAAAA0dVx4QgAAwJnHXHhCAAAAy75deEIAAMAwEV54QgAAgJZjXnhCAABA/LVeeEIAAABiCF94QgAAQJP/X3hCAAAA+VFgeEIAAMBepGB4QgAAgMT2YHhCAABAKklheEIAAIBbQGJ4QgAAQMGSYnhCAAAAJ+VieEIAAMCMN2N4QgAAgPKJY3hCAADAI4FkeEIAAICJ02R4QgAAQO8lZXhCAAAAVXhleEIAAMC6ymV4QgAAwFEUZ3hCAACAt2ZneEIAAEAduWd4QgAAAIMLaHhCAABAtAJpeEIAAAAaVWl4QgAAwH+naXhCAACA5flpeEIAAEBLTGp4QgAAgHxDa3hCAABA4pVreEIAAABI6Gt4QgAAwK06bHhCAACAE41seEIAAMBEhG14QgAAgKrWbXhCAABAEClueEIAAAB2e254QgAAwNvNbnhCAAAADcVveEIAAMByF3B4QgAAgNhpcHhCAABAPrxweEIAAACkDnF4QgAAQNUFcnhCAAAAO1hyeEIAAMCgqnJ4QgAAgAb9cnhCAABAbE9zeEIAAICdRnR4QgAAQAOZdHhCAAAAaet0eEIAAMDOPXV4QgAAwGWHdnhCAACAy9l2eEIAAEAxLHd4QgAAAJd+d3hCAADA/NB3eEIAAAAuyHh4QgAAwJMaeXhCAACA+Wx5eEIAAEBfv3l4QgAAAMURenhCAABA9gh7eEIAAABcW3t4QgAAwMGte3hCAACAJwB8eEIAAECNUnx4QgAAgL5JfXhCAABAJJx9eEIAAACK7n14QgAAwO9AfnhCAACAVZN+eEIAAMCGin94QgAAgOzcf3hCAABAUi+AeEIAAAC4gYB4QgAAwB3UgHhCAAAAT8uBeEIAAMC0HYJ4QgAAgBpwgnhCAABAgMKCeEIAAADmFIN4Qg==\",\"dtype\":\"float64\",\"order\":\"little\",\"shape\":[104]},\"Trailing_Sell_Level\":{\"__ndarray__\":\"t/P9dGGXbkAhsHL4P/tuQCGwcvg/+25AIbBy+D/7bkAhsHL4P/tuQCGwcvg/+25AIbBy+D/7bkAhsHL4P/tuQCGwcvg/+25AIbBy+D/7bkAhsHL4P/tuQCGwcvg/+25AOrTIhvgJb0A6tMiG+AlvQIGVQ9tgTm9A8KfGe86Ub0CJQWBVIrVvQDzfT70u5G9AF9nOZ6UMcEAX2c5npQxwQBfZzmelDHBAgZVDg09ccECBlUODT1xwQIGVQ4NPXHBAjZdumhSMcEDwp8YLfdBwQPCnxgt90HBA8KfGC33QcECUGAQGGhtxQESLbJcHr3FARItslwevcUBEi2yXB69xQESLbJcHr3FARItslwevcUBEi2yXB69xQESLbJcHr3FARItslwevcUBEi2yXB69xQESLbJcHr3FARItslwevcUBEi2yXB69xQESLbJcHr3FARItslwevcUBEi2yXB69xQESLbJcHr3FARItslwevcUBEi2yXB69xQESLbJcHr3FARItslwevcUBEi2yXB69xQESLbJcHr3FARItslwevcUBEi2yXB69xQESLbJcHr3FARItslwevcUBEi2yXB69xQESLbJcHr3FARItslwevcUBEi2yXB69xQESLbJcHr3FARItslwevcUBEi2yXB69xQKabxCCwxXFAppvEILDFcUCmm8QgsMVxQKabxCCwxXFAppvEILDFcUCmm8QgsMVxQBkEVl4h1XFATDeJKSAbckBMN4kpIBtyQOOlm6TDIXJA46WbpMMhckDjpZukwyFyQOOlm6TDIXJA46WbpMMhckDjpZukwyFyQOOlm6TDIXJA46WbpMMhckDjpZukwyFyQOOlm6TDIXJA46WbpMMhckDjpZukwyFyQOOlm6TDIXJA46WbpMMhckDjpZukwyFyQOOlm6TDIXJA46WbpMMhckDhehQWfDByQKJFttOgPnJAokW206A+ckCiRbbToD5yQKJFttOgPnJArBxaJIFAckDfT42fi0RyQN9PjZ+LRHJAYhBY+flgckAtsp3vp2tyQIcW2ba3cXJAhxbZtrdxckAVrkdJr4pyQDEIrBQ9s3JAsHJo0acGc0BOYhBw+RBzQA==\",\"dtype\":\"float64\",\"order\":\"little\",\"shape\":[104]}},\"selected\":{\"id\":\"38918\"},\"selection_policy\":{\"id\":\"38968\"}},\"id\":\"38917\",\"type\":\"ColumnDataSource\"},{\"attributes\":{\"bottom_units\":\"screen\",\"coordinates\":null,\"fill_alpha\":0.5,\"fill_color\":\"lightgrey\",\"group\":null,\"left_units\":\"screen\",\"level\":\"overlay\",\"line_alpha\":1.0,\"line_color\":\"black\",\"line_dash\":[4,4],\"line_width\":2,\"right_units\":\"screen\",\"syncable\":false,\"top_units\":\"screen\"},\"id\":\"38886\",\"type\":\"BoxAnnotation\"},{\"attributes\":{},\"id\":\"38970\",\"type\":\"UnionRenderers\"},{\"attributes\":{},\"id\":\"38895\",\"type\":\"AllLabels\"},{\"attributes\":{\"line_alpha\":0.2,\"line_width\":2,\"x\":{\"field\":\"Date\"},\"y\":{\"field\":\"High\"}},\"id\":\"38904\",\"type\":\"Line\"},{\"attributes\":{\"coordinates\":null,\"data_source\":{\"id\":\"38935\"},\"glyph\":{\"id\":\"38938\"},\"group\":null,\"hover_glyph\":null,\"muted_glyph\":{\"id\":\"38940\"},\"nonselection_glyph\":{\"id\":\"38939\"},\"selection_glyph\":{\"id\":\"38943\"},\"view\":{\"id\":\"38942\"}},\"id\":\"38941\",\"type\":\"GlyphRenderer\"}],\"root_ids\":[\"38861\"]},\"title\":\"Bokeh Application\",\"version\":\"2.4.3\"}};\n",
              "    var render_items = [{\"docid\":\"ea446bb1-ef7e-4500-bd70-513cc6a81a51\",\"root_ids\":[\"38861\"],\"roots\":{\"38861\":\"6b528846-16b7-4b9c-9b3d-8964b4364b9e\"}}];\n",
              "    root.Bokeh.embed.embed_items_notebook(docs_json, render_items);\n",
              "    for (const render_item of render_items) {\n",
              "      for (const root_id of render_item.root_ids) {\n",
              "\tconst id_el = document.getElementById(root_id)\n",
              "\tif (id_el.children.length && (id_el.children[0].className === 'bk-root')) {\n",
              "\t  const root_el = id_el.children[0]\n",
              "\t  root_el.id = root_el.id + '-rendered'\n",
              "\t}\n",
              "      }\n",
              "    }\n",
              "  }\n",
              "  if (root.Bokeh !== undefined && root.Bokeh.Panel !== undefined) {\n",
              "    embed_document(root);\n",
              "  } else {\n",
              "    var attempts = 0;\n",
              "    var timer = setInterval(function(root) {\n",
              "      if (root.Bokeh !== undefined && root.Bokeh.Panel !== undefined) {\n",
              "        clearInterval(timer);\n",
              "        embed_document(root);\n",
              "      } else if (document.readyState == \"complete\") {\n",
              "        attempts++;\n",
              "        if (attempts > 200) {\n",
              "          clearInterval(timer);\n",
              "          console.log(\"Bokeh: ERROR: Unable to run BokehJS code because BokehJS library is missing\");\n",
              "        }\n",
              "      }\n",
              "    }, 25, root)\n",
              "  }\n",
              "})(window);</script>"
            ],
            "application/vnd.holoviews_exec.v0+json": "",
            "text/plain": [
              ":Overlay\n",
              "   .Curve.I    :Curve   [Date]   (High)\n",
              "   .Curve.II   :Curve   [Date]   (Low)\n",
              "   .Curve.III  :Curve   [Date]   (Trailing_Sell_Level)\n",
              "   .Curve.IV   :Curve   [x]   (y)\n",
              "   .Scatter.I  :Scatter   [x]   (y)\n",
              "   .Scatter.II :Scatter   [x]   (y)"
            ]
          },
          "metadata": {
            "application/vnd.holoviews_exec.v0+json": {
              "id": "38861"
            }
          }
        }
      ],
      "source": [
        "# Import the necessary libraries\n",
        "import yfinance as yf\n",
        "import holoviews as hv\n",
        "import pandas as pd\n",
        "import numpy as np\n",
        "from holoviews import opts\n",
        "from ipywidgets import widgets, Layout\n",
        "from datetime import datetime, timedelta\n",
        "from IPython.display import display, clear_output\n",
        "\n",
        "# Use bokeh backend\n",
        "hv.extension('bokeh')    \n",
        "\n",
        "def download_data(symbol, start, end):\n",
        "    \"\"\"Fetch stock data using yfinance library.\"\"\"\n",
        "    try:\n",
        "        df = yf.download(symbol, start=start, end=end)\n",
        "        return df\n",
        "    except Exception as e:\n",
        "        print(f\"Failed to fetch data for {symbol}. Error: {str(e)}\")\n",
        "        return pd.DataFrame()  # Return an empty DataFrame on failure\n",
        "\n",
        "def calculate_trailing_stops(df, trailing_stop_pct):\n",
        "    \"\"\"Calculate the trailing stop levels based on the highest price reached so far.\"\"\"\n",
        "    highest_price = df['High'].expanding().max()\n",
        "    trailing_sell_level = highest_price * (1 - trailing_stop_pct / 100)\n",
        "    df['Trailing_Sell_Level'] = trailing_sell_level\n",
        "    return df\n",
        "    \n",
        "\n",
        "def find_buy_and_sell_signals(df, trailing_buy_pct, trailing_sell_pct):\n",
        "    \"\"\"Find the buy and sell signals.\"\"\"\n",
        "    buy_signal = (df.Low <= df.Trailing_Sell_Level)\n",
        "    buy_date, buy_price, sell_date, sell_price = None, None, None, None\n",
        "\n",
        "    if buy_signal.any():\n",
        "        buy_date = buy_signal.idxmax()  # date of first True\n",
        "        buy_price = df.loc[buy_date, 'Low']\n",
        "        df_after_buy = df.loc[buy_date:].copy()\n",
        "        df_after_buy['Trailing_Buy_Level'] = df_after_buy['High'].expanding().min() * (1 + trailing_buy_pct / 100)\n",
        "\n",
        "        # Get the next date after buy_date, and terminate the \"Trailing_Sell_Level\" curve from that date onwards\n",
        "        next_day = df.loc[buy_date:].index[1] if (len(df.loc[buy_date:].index) > 1) else buy_date\n",
        "        df.loc[next_day:, 'Trailing_Sell_Level'] = np.nan\n",
        "        \n",
        "        # Terminate the \"Trailing_Sell_Level\" curve in the original df and df_after_buy from buy_date onwards\n",
        "        df_after_buy['Trailing_Sell_Level'] = np.nan\n",
        "\n",
        "\n",
        "        sell_signal = (df_after_buy.High >= df_after_buy.Trailing_Buy_Level)\n",
        "\n",
        "        if sell_signal.any():\n",
        "            sell_date = sell_signal.idxmax()  # date of first True\n",
        "            sell_price = df_after_buy.loc[sell_date, 'High']\n",
        "\n",
        "            # Get the next date after sell_date, and terminate the \"Trailing_Buy_Level\" curve from that date onwards\n",
        "            next_day = df_after_buy.loc[sell_date:].index[1] if (len(df_after_buy.loc[sell_date:].index) > 1) else sell_date\n",
        "            df_after_buy.loc[next_day:, 'Trailing_Buy_Level'] = np.nan\n",
        "\n",
        "        df = df_after_buy.combine_first(df)  # give priority to df_after_buy and merge the new trailing levels into the original dataframe\n",
        "    return buy_date, buy_price, sell_date, sell_price, df\n",
        "\n",
        "\n",
        "def create_plot(df, buy_date, buy_price, sell_date, sell_price):\n",
        "    \"\"\"Create and display the plot.\"\"\"\n",
        "    price_curve = hv.Curve(df, ('Date', 'Date'), ('High', 'High')).opts(color='black') * \\\n",
        "                  hv.Curve(df, ('Date', 'Date'), ('Low', 'Low')).opts(color='black')\n",
        "    sell_curve = hv.Curve(df, ('Date', 'Date'), ('Trailing_Sell_Level', 'Trailing Sell Level')).opts(color='red')\n",
        "\n",
        "    # Only plot Trailing_Buy_Level if it exists\n",
        "    if 'Trailing_Buy_Level' in df.columns:\n",
        "        buy_curve = hv.Curve(df, ('Date', 'Date'), ('Trailing_Buy_Level', 'Trailing Buy Level')).opts(color='green')\n",
        "    else:\n",
        "        buy_curve = hv.Curve([])  # Empty placeholder to not disrupt the plot\n",
        "\n",
        "    buy_point = hv.Scatter([(buy_date, buy_price)] if buy_date else []).opts(color='red', size=10)\n",
        "    sell_point = hv.Scatter([(sell_date, sell_price)] if sell_date else []).opts(color='green', size=10)\n",
        "\n",
        "    display((price_curve * sell_curve * buy_curve * buy_point * sell_point).opts(width=600))\n",
        "\n",
        "def plot_stock(symbol, days, trailing_stop_pct_buy, trailing_stop_pct_sell, days_offset):\n",
        "    \"\"\"Fetch and plot the stock data.\"\"\"\n",
        "    end = datetime.now()\n",
        "    start = end - timedelta(days=days)\n",
        "\n",
        "    # Fetch data\n",
        "    df = download_data(symbol, start, end)\n",
        "    if df.empty:\n",
        "        print(f\"No data available for {symbol} in the given date range.\")\n",
        "        return\n",
        "\n",
        "    # Calculate trailing stops\n",
        "    df = calculate_trailing_stops(df, trailing_stop_pct_sell)\n",
        "\n",
        "    # Find buy and sell signals\n",
        "    buy_date, buy_price, sell_date, sell_price, df = find_buy_and_sell_signals(df, trailing_stop_pct_buy, trailing_stop_pct_sell)\n",
        "\n",
        "    # Create and display the plot\n",
        "    create_plot(df, buy_date, buy_price, sell_date, sell_price)\n",
        "\n",
        "# Create input widgets\n",
        "symbol_input = widgets.Text(value='GOOG', description='Stock Symbol:')\n",
        "days_input = widgets.IntSlider(layout=Layout(width='500px'), value=180, min=20, max=360, step=10, description='Days:')\n",
        "days_offset = widgets.IntSlider(layout=Layout(width='500px'), value=350, min=10, max=350, step=1, description='Start day:')\n",
        "trailing_stop_pct_buy_input = widgets.FloatSlider(layout=Layout(width='500px'), value=1.0, min=0.1, max=25.0, step=0.1, description='Buy Trailing Stop (%):')\n",
        "trailing_stop_pct_sell_input = widgets.FloatSlider(layout=Layout(width='500px'), value=1.0, min=0.1, max=25.0, step=0.1, description='Sell Trailing Stop (%):')\n",
        "\n",
        "# Define the event handler\n",
        "def on_input_change(change):\n",
        "    clear_output(wait=True)\n",
        "    display(symbol_input, days_input, trailing_stop_pct_buy_input, trailing_stop_pct_sell_input, days_offset)\n",
        "    plot_stock(symbol_input.value, days_input.value, trailing_stop_pct_buy_input.value, trailing_stop_pct_sell_input.value, days_offset.value)\n",
        "\n",
        "# Attach the event handler to the 'on_submit' event and 'value' change event\n",
        "symbol_input.on_submit(on_input_change)\n",
        "days_input.observe(on_input_change, names='value')\n",
        "days_offset.observe(on_input_change, names='value')\n",
        "trailing_stop_pct_buy_input.observe(on_input_change, names='value')\n",
        "trailing_stop_pct_sell_input.observe(on_input_change, names='value')\n",
        "\n",
        "# Display the widgets and initial plot\n",
        "display(symbol_input, days_input, trailing_stop_pct_buy_input, trailing_stop_pct_sell_input, days_offset)\n",
        "plot_stock(symbol_input.value, days_input.value, trailing_stop_pct_buy_input.value, trailing_stop_pct_sell_input.value, days_offset.value)"
      ]
    },
    {
      "cell_type": "markdown",
      "source": [
        "You are a highly skilled, staff Google engineer and expert in python and data visualization. You are also very familiar with stock market trading and technical analysis and have programmed many automated trading systems and simulations. You know all of the concepts on Investopedia. You will help me integrate the days_offset input to shift the start of the trailing stop calculation to the following Google Colab notebook:"
      ],
      "metadata": {
        "id": "ojmyFrk61YJd"
      }
    },
    {
      "cell_type": "code",
      "source": [],
      "metadata": {
        "id": "XR4jE6f25Orz"
      },
      "execution_count": 1,
      "outputs": []
    }
  ]
}